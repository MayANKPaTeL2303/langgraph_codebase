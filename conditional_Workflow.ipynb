{
 "cells": [
  {
   "cell_type": "code",
   "execution_count": 1,
   "id": "04813e8c",
   "metadata": {},
   "outputs": [
    {
     "data": {
      "text/plain": [
       "True"
      ]
     },
     "execution_count": 1,
     "metadata": {},
     "output_type": "execute_result"
    }
   ],
   "source": [
    "from langgraph.graph import StateGraph, START, END\n",
    "from langchain_google_genai import ChatGoogleGenerativeAI\n",
    "from typing import TypedDict, Annotated\n",
    "from dotenv import load_dotenv\n",
    "import os\n",
    "from pydantic import BaseModel, Field\n",
    "import operator\n",
    "\n",
    "# Load environment variables from .env\n",
    "load_dotenv()"
   ]
  },
  {
   "cell_type": "code",
   "execution_count": 2,
   "id": "d2aebaa5",
   "metadata": {},
   "outputs": [],
   "source": [
    "model = ChatGoogleGenerativeAI(\n",
    "    model=\"gemini-1.5-flash\",\n",
    "    temperature=0.2,\n",
    "    max_output_tokens=1024,\n",
    "    top_p=0.95,\n",
    "    top_k=40,\n",
    "    google_api_key=os.getenv(\"GEMINI_API_KEY\") \n",
    ")"
   ]
  },
  {
   "cell_type": "code",
   "execution_count": 3,
   "id": "dc769d9f",
   "metadata": {},
   "outputs": [],
   "source": [
    "class QuadState(TypedDict):\n",
    "    a: int\n",
    "    b: int\n",
    "    c: int\n",
    "\n",
    "    equation: str\n",
    "    discriminant: int\n",
    "    result: str\n",
    "    "
   ]
  },
  {
   "cell_type": "code",
   "execution_count": 4,
   "id": "509d26ed",
   "metadata": {},
   "outputs": [],
   "source": [
    "def show_equation(state: QuadState) -> QuadState:\n",
    "    a = state['a']\n",
    "    b = state['b']\n",
    "    c = state['c']\n",
    "    equation = f\"{a}x2 + {b}x + {c} = 0\"\n",
    "    state['equation'] = equation\n",
    "\n",
    "    return {'equation': state['equation']}\n",
    "\n",
    "def calculate_discriminant(state: QuadState) -> QuadState:\n",
    "    a = state['a']\n",
    "    b = state['b']\n",
    "    c = state['c']\n",
    "    discriminant = b**2 - 4*a*c\n",
    "    state['discriminant'] = discriminant\n",
    "\n",
    "    return {'discriminant': state['discriminant']}\n",
    "\n",
    "def real_roots(state: QuadState) -> QuadState:\n",
    "    root1 = (-state['b'] + (state['discriminant']**0.5)) / (2 * state['a'])\n",
    "    root2 = (-state['b'] - (state['discriminant']**0.5)) / (2 * state['a'])\n",
    "\n",
    "    result = f\"The roots are: {root1} and {root2}\"\n",
    "\n",
    "    return {'result': result}\n",
    "\n",
    "def repeated_root(state: QuadState) -> QuadState:\n",
    "    root = -state['b'] / (2 * state['a'])\n",
    "    result = f\"The repeated root is: {root}\"\n",
    "\n",
    "    return {'result': result}\n",
    "\n",
    "def complex_roots(state: QuadState) -> QuadState:\n",
    "    result = \"There are no real roots.\"\n",
    "\n",
    "    return {'result': result}\n",
    "\n",
    "def checkcondition(state: QuadState) -> QuadState:\n",
    "    if state['discriminant'] > 0:\n",
    "        return \"real_roots\"\n",
    "    elif state['discriminant'] == 0:\n",
    "        return \"repeated_root\"\n",
    "    else:\n",
    "        return \"complex_roots\"\n",
    "    "
   ]
  },
  {
   "cell_type": "code",
   "execution_count": 5,
   "id": "1938ffd6",
   "metadata": {},
   "outputs": [],
   "source": [
    "graph = StateGraph(QuadState)\n",
    "\n",
    "graph.add_node('show_equation', show_equation)\n",
    "graph.add_node('calculate_discriminant', calculate_discriminant)\n",
    "graph.add_node('real_roots', real_roots)\n",
    "graph.add_node('repeated_root', repeated_root)\n",
    "graph.add_node('complex_roots', complex_roots)\n",
    "\n",
    "graph.add_edge(START, 'show_equation')\n",
    "graph.add_edge('show_equation', 'calculate_discriminant')\n",
    "\n",
    "graph.add_conditional_edges('calculate_discriminant',checkcondition)\n",
    "\n",
    "workflow = graph.compile()"
   ]
  },
  {
   "cell_type": "code",
   "execution_count": 6,
   "id": "c41d10a2",
   "metadata": {},
   "outputs": [
    {
     "data": {
      "text/plain": [
       "{'a': 1,\n",
       " 'b': 0,\n",
       " 'c': 2,\n",
       " 'equation': '1x2 + 0x + 2 = 0',\n",
       " 'discriminant': -8,\n",
       " 'result': 'There are no real roots.'}"
      ]
     },
     "execution_count": 6,
     "metadata": {},
     "output_type": "execute_result"
    }
   ],
   "source": [
    "initial_state = {\n",
    "    'a': 1,\n",
    "    'b': 0,\n",
    "    'c': 2\n",
    "}\n",
    "\n",
    "workflow.invoke(initial_state)"
   ]
  },
  {
   "cell_type": "code",
   "execution_count": null,
   "id": "2b69e010",
   "metadata": {},
   "outputs": [],
   "source": []
  }
 ],
 "metadata": {
  "kernelspec": {
   "display_name": "lg",
   "language": "python",
   "name": "python3"
  },
  "language_info": {
   "codemirror_mode": {
    "name": "ipython",
    "version": 3
   },
   "file_extension": ".py",
   "mimetype": "text/x-python",
   "name": "python",
   "nbconvert_exporter": "python",
   "pygments_lexer": "ipython3",
   "version": "3.11.9"
  }
 },
 "nbformat": 4,
 "nbformat_minor": 5
}
