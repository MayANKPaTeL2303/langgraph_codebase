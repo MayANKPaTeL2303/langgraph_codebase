{
 "cells": [
  {
   "cell_type": "code",
   "execution_count": null,
   "id": "67541f01",
   "metadata": {},
   "outputs": [
    {
     "data": {
      "text/plain": [
       "True"
      ]
     },
     "execution_count": 13,
     "metadata": {},
     "output_type": "execute_result"
    }
   ],
   "source": [
    "from langgraph.graph import StateGraph, START, END\n",
    "from langchain_google_genai import ChatGoogleGenerativeAI\n",
    "from typing import TypedDict\n",
    "from dotenv import load_dotenv\n",
    "import os\n",
    "\n",
    "load_dotenv()"
   ]
  },
  {
   "cell_type": "code",
   "execution_count": 14,
   "id": "f63d1f66",
   "metadata": {},
   "outputs": [],
   "source": [
    "llm = ChatGoogleGenerativeAI(\n",
    "    model=\"gemini-1.5-flash\",\n",
    "    temperature=0.2,\n",
    "    max_output_tokens=1024,\n",
    "    top_p=0.95,\n",
    "    top_k=40,\n",
    "    google_api_key=os.getenv(\"GEMINI_API_KEY\")  \n",
    ")\n"
   ]
  },
  {
   "cell_type": "code",
   "execution_count": 15,
   "id": "db6f82b6",
   "metadata": {},
   "outputs": [],
   "source": [
    "class BlogState(TypedDict):\n",
    "    title: str\n",
    "    outline: str\n",
    "    content: str"
   ]
  },
  {
   "cell_type": "code",
   "execution_count": 20,
   "id": "0c9a11f7",
   "metadata": {},
   "outputs": [],
   "source": [
    "def create_outline(state: BlogState) -> BlogState:\n",
    "    title = state['title']\n",
    "\n",
    "    prompt = f\"Generate an detailed outlline for a blog post titled '{title}'. The outline should be detailed and structured.\"\n",
    "    outline = llm.invoke(prompt).content\n",
    "    state['outline'] = outline\n",
    "\n",
    "    return state\n"
   ]
  },
  {
   "cell_type": "code",
   "execution_count": 21,
   "id": "9e0c5a1f",
   "metadata": {},
   "outputs": [],
   "source": [
    "def create_blog(state: BlogState) -> BlogState:\n",
    "    outline = state['outline']\n",
    "    title = state['title']\n",
    "\n",
    "    prompt = f\"Write a blog post based on the following title and outline:\\n{outline} and {title}. The blog post should be engaging, informative, and well-structured.\"\n",
    "    content = llm.invoke(prompt).content\n",
    "    state['content'] = content\n",
    "\n",
    "    return state"
   ]
  },
  {
   "cell_type": "code",
   "execution_count": 22,
   "id": "fb1a3d81",
   "metadata": {},
   "outputs": [
    {
     "name": "stdout",
     "output_type": "stream",
     "text": [
      "<langgraph.graph.state.CompiledStateGraph object at 0x000001AB3BE880D0>\n"
     ]
    }
   ],
   "source": [
    "graph = StateGraph(BlogState)\n",
    "\n",
    "graph.add_node('create_outline', create_outline)\n",
    "graph.add_node('create_blog',create_blog)\n",
    "\n",
    "# Add edges to define the workflow\n",
    "graph.add_edge(START, 'create_outline')\n",
    "graph.add_edge('create_outline', 'create_blog')\n",
    "graph.add_edge('create_blog', END)\n",
    "\n",
    "workflow = graph.compile()\n",
    "print(workflow)"
   ]
  },
  {
   "cell_type": "code",
   "execution_count": 23,
   "id": "524eaca8",
   "metadata": {},
   "outputs": [
    {
     "name": "stdout",
     "output_type": "stream",
     "text": [
      "## The Future of AI: Opportunities and Challenges\n",
      "\n",
      "Artificial intelligence is no longer a futuristic fantasy; it's rapidly weaving itself into the fabric of our daily lives.  From the personalized recommendations on our streaming services to the sophisticated algorithms powering our smartphones, AI's influence is undeniable.  In 2022 alone, the global AI market experienced a surge, highlighting its accelerating impact across various sectors. This post explores the exciting opportunities and significant challenges presented by the future of AI, paving the way for a thoughtful discussion about its responsible development and deployment.  We'll delve into its transformative potential across industries, address crucial ethical concerns, and examine the path towards a future where AI benefits all of humanity.\n",
      "\n",
      "**Opportunities Presented by AI**\n",
      "\n",
      "AI's potential is transformative, offering solutions to some of humanity's most pressing problems.  In healthcare, AI-powered diagnostic tools are revolutionizing early disease detection, enabling faster and more accurate diagnoses than ever before.  For example, Google's DeepMind has developed algorithms that can detect eye diseases with accuracy comparable to expert ophthalmologists.  Furthermore, AI is driving personalized medicine, tailoring treatments to individual patients based on their unique genetic makeup and medical history.  Robotic surgery, guided by AI, promises increased precision and minimally invasive procedures. Beyond diagnostics, AI streamlines administrative tasks, improves patient monitoring through wearable sensors, and provides personalized support through AI-powered chatbots.\n",
      "\n",
      "Beyond healthcare, AI is automating tasks across various industries, boosting efficiency and productivity.  Automated warehouses, powered by AI-driven robotics, are optimizing logistics and supply chains.  AI-powered chatbots are revolutionizing customer service, providing 24/7 support and instant responses.  Moreover, AI is fueling innovation, leading to the creation of entirely new products and services, such as self-driving cars and AI-powered creative tools that assist artists and designers.  AI's potential extends to addressing global challenges like climate change, by optimizing energy consumption and developing sustainable solutions, and tackling poverty and inequality by improving access to education and financial services in underserved communities.\n",
      "\n",
      "**Challenges Posed by AI**\n",
      "\n",
      "Despite its immense potential, the future of AI is not without significant challenges.  Ethical concerns are paramount.  AI systems, trained on biased data, can perpetuate and amplify existing societal biases, leading to unfair or discriminatory outcomes in areas like loan applications, hiring processes, and even criminal justice.  The collection and use of personal data by AI systems raise serious privacy and security concerns, increasing the risk of data breaches and surveillance.  Furthermore, the automation driven by AI raises the specter of widespread job displacement, requiring proactive strategies like retraining programs to mitigate its impact.\n",
      "\n",
      "Technological limitations also pose challenges.  The \"black box\" problem – the difficulty in understanding how some AI systems arrive at their decisions – hinders transparency and accountability.  AI's heavy reliance on large amounts of high-quality data presents significant challenges in data acquisition, management, and ensuring data quality.  The potential for malfunctioning or misused AI systems, particularly in critical applications like autonomous vehicles, raises serious safety and reliability concerns.  Finally, the lack of clear regulations and the need for international cooperation to govern the development and deployment of AI are crucial issues that need immediate attention.\n",
      "\n",
      "**Navigating the Future of AI**\n",
      "\n",
      "Navigating the future of AI requires a commitment to responsible AI development, prioritizing ethical considerations such as fairness, transparency, accountability, and privacy.  Collaboration between researchers, policymakers, and the public is crucial to shape the future of AI in a way that benefits all of humanity.  Investing in AI literacy and education is essential to equip individuals with the knowledge and skills to understand and engage with this transformative technology.\n",
      "\n",
      "Looking ahead, the future of AI is a double-edged sword.  It holds the promise of incredible advancements and solutions to global challenges, but also presents significant risks that must be carefully managed.  The question is not whether AI will shape our future, but how we will shape its future.\n",
      "\n",
      "**Conclusion**\n",
      "\n",
      "The future of AI presents both remarkable opportunities and significant challenges.  From revolutionizing healthcare and transforming industries to addressing global challenges, AI's potential is immense.  However, ethical concerns, technological limitations, and regulatory issues require careful consideration and proactive solutions.  Responsible AI development, collaboration, and education are crucial to harnessing AI's benefits while mitigating its risks.\n",
      "\n",
      "**Call to Action**\n",
      "\n",
      "Share your thoughts on the future of AI in the comments below!  For further reading, explore resources from organizations like the AI Now Institute and the Partnership on AI.\n"
     ]
    }
   ],
   "source": [
    "initial_state = BlogState(\n",
    "    title= \"The Future of AI: Opportunities and Challenges\",\n",
    "    outline=\"\"\n",
    ")\n",
    "\n",
    "final_state = workflow.invoke(initial_state)\n",
    "print(final_state['content'])"
   ]
  },
  {
   "cell_type": "code",
   "execution_count": null,
   "id": "1bb61ad8",
   "metadata": {},
   "outputs": [],
   "source": []
  },
  {
   "cell_type": "code",
   "execution_count": null,
   "id": "ea5560c5",
   "metadata": {},
   "outputs": [],
   "source": []
  },
  {
   "cell_type": "code",
   "execution_count": null,
   "id": "0ee7d885",
   "metadata": {},
   "outputs": [],
   "source": []
  }
 ],
 "metadata": {
  "kernelspec": {
   "display_name": "lg",
   "language": "python",
   "name": "python3"
  },
  "language_info": {
   "codemirror_mode": {
    "name": "ipython",
    "version": 3
   },
   "file_extension": ".py",
   "mimetype": "text/x-python",
   "name": "python",
   "nbconvert_exporter": "python",
   "pygments_lexer": "ipython3",
   "version": "3.11.9"
  }
 },
 "nbformat": 4,
 "nbformat_minor": 5
}
