{
 "cells": [
  {
   "cell_type": "code",
   "execution_count": 45,
   "id": "373d14ea",
   "metadata": {},
   "outputs": [
    {
     "data": {
      "text/plain": [
       "True"
      ]
     },
     "execution_count": 45,
     "metadata": {},
     "output_type": "execute_result"
    }
   ],
   "source": [
    "from langgraph.graph import StateGraph, START, END\n",
    "from langchain_google_genai import ChatGoogleGenerativeAI\n",
    "from typing import TypedDict, Annotated, Literal\n",
    "from dotenv import load_dotenv\n",
    "import os\n",
    "from pydantic import BaseModel, Field\n",
    "import operator\n",
    "\n",
    "load_dotenv()"
   ]
  },
  {
   "cell_type": "code",
   "execution_count": 46,
   "id": "9c35650d",
   "metadata": {},
   "outputs": [],
   "source": [
    "model = ChatGoogleGenerativeAI(\n",
    "    model=\"gemini-1.5-flash\",\n",
    "    temperature=0.2,\n",
    "    max_output_tokens=1024,\n",
    "    top_p=0.95,\n",
    "    top_k=40,\n",
    "    google_api_key=os.getenv(\"GEMINI_API_KEY\") \n",
    ")"
   ]
  },
  {
   "cell_type": "code",
   "execution_count": 47,
   "id": "dcab569f",
   "metadata": {},
   "outputs": [],
   "source": [
    "class SentimentSchema(BaseModel):\n",
    "    sentiment: Literal[\"positive\",\"negative\"] = Field(description=\"The sentiment of the review\")\n",
    "\n",
    "class DiagnosisSchema(BaseModel):\n",
    "    issue_type: Literal[\"UX\", \"Performance\", \"Feature Request\", \"Support\", \"Other\"] = Field(description=\"The type of issue identified in the review\")\n",
    "    tone: Literal[\"neutral\", \"angry\", \"frustrated\", \"satisfied\", \"happy\"] = Field(description=\"The tone of the review\")\n",
    "    urgency: Literal[\"low\", \"medium\", \"high\"] = Field(description=\"The urgency of the issue\")\n",
    "\n",
    "structure_model = model.with_structured_output(SentimentSchema)\n",
    "structure_model_diagnosis = model.with_structured_output(DiagnosisSchema)\n"
   ]
  },
  {
   "cell_type": "code",
   "execution_count": 48,
   "id": "7f0af64d",
   "metadata": {},
   "outputs": [],
   "source": [
    "class ReviewState(TypedDict):\n",
    "    review: str\n",
    "    sentiment: Literal[\"positive\", \"negative\"]\n",
    "    diagnosis: str\n",
    "    response: str\n"
   ]
  },
  {
   "cell_type": "code",
   "execution_count": 49,
   "id": "7d50fb8b",
   "metadata": {},
   "outputs": [],
   "source": [
    "def find_sentiment(state: ReviewState):\n",
    "    prompt = f'For the following review, determine if it is positive or negative:\\n\\n{state[\"review\"]}\\n\\nRespond with \"positive\" or \"negative\".'\n",
    "    response = structure_model.invoke(prompt).sentiment\n",
    "    return {\"sentiment\": response}\n",
    "\n",
    "def checksentiment(state: ReviewState) -> Literal[\"positive_response\",\"run_diagonsis\"]:\n",
    "    if state[\"sentiment\"] == \"positive\":\n",
    "        return \"positive_response\"\n",
    "    else:\n",
    "        return \"run_diagonsis\"\n",
    "    \n",
    "def positive_response(state: ReviewState):\n",
    "    prompt = f'The review is positive. Respond with a thank you message.\\n\\n{state[\"review\"]}\\n\\nRespond with a thank you message.'\n",
    "    response = model.invoke(prompt).content\n",
    "\n",
    "    return {\"response\": response}\n",
    "\n",
    "def run_diagonsis(state: ReviewState):\n",
    "    prompt = f'The review is negative. Run a diagnosis to understand the issue.\\n\\n{state[\"review\"]}\\n\\nRespond with a diagnosis.'\n",
    "    response = structure_model_diagnosis.invoke(prompt)\n",
    "\n",
    "    return {\"diagnosis\": response.model_dump()} # JSON to dict conversion\n",
    "\n",
    "def negative_response(state: ReviewState):\n",
    "    diagnosis = state[\"diagnosis\"]\n",
    "    prompt = f'You are the support assistant. The user has the diagnosis {diagnosis[\"issue_type\"]} with a tone of {diagnosis[\"tone\"]} and urgency of {diagnosis[\"urgency\"]}. Respond with an appropriate response.\\n\\n{state[\"review\"]}\\n\\nRespond with a support message.'\n",
    "    response = model.invoke(prompt).content\n",
    "\n",
    "    return {'response': response}\n",
    "\n"
   ]
  },
  {
   "cell_type": "code",
   "execution_count": 50,
   "id": "f9edb7ef",
   "metadata": {},
   "outputs": [],
   "source": [
    "graph = StateGraph(ReviewState)\n",
    "graph.add_node('find_sentiment', find_sentiment)\n",
    "graph.add_node('positive_response', positive_response)\n",
    "graph.add_node('run_diagonsis', run_diagonsis)\n",
    "graph.add_node('negative_response', negative_response)\n",
    "\n",
    "\n",
    "graph.add_edge(START, 'find_sentiment')\n",
    "\n",
    "graph.add_conditional_edges('find_sentiment', checksentiment)\n",
    "graph.add_edge('positive_response', END)\n",
    "graph.add_edge('run_diagonsis', 'negative_response')\n",
    "graph.add_edge('negative_response', END)\n",
    "\n",
    "workflow = graph.compile()\n",
    "\n"
   ]
  },
  {
   "cell_type": "code",
   "execution_count": 51,
   "id": "6660b97e",
   "metadata": {},
   "outputs": [
    {
     "data": {
      "image/png": "[encoded data removed]",
      "text/plain": [
       "<langgraph.graph.state.CompiledStateGraph object at 0x00000142E1B5DD50>"
      ]
     },
     "execution_count": 51,
     "metadata": {},
     "output_type": "execute_result"
    }
   ],
   "source": [
    "workflow "
   ]
  },
  {
   "cell_type": "code",
   "execution_count": 52,
   "id": "ea8948ae",
   "metadata": {},
   "outputs": [
    {
     "data": {
      "text/plain": [
       "{'review': 'The product is not working as expected. I am very disappointed with the service.',\n",
       " 'sentiment': 'negative',\n",
       " 'diagnosis': {'issue_type': 'UX', 'tone': 'angry', 'urgency': 'high'},\n",
       " 'response': \"I understand your frustration and I sincerely apologize that the product isn't working as expected.  This is definitely not the experience we want you to have.  To help me resolve this quickly, could you please tell me more about what's happening?  Specifically:\\n\\n* **What exactly isn't working?**  Please describe the issue in as much detail as possible.  Include any error messages you're seeing.\\n* **What steps have you already tried?**  This will help us avoid suggesting things you've already done.\\n* **What version of the product are you using?** (If applicable)\\n* **What device and operating system are you using?** (If applicable)\\n\\nThe more information you can provide, the faster we can get this resolved for you.  I'm committed to finding a solution and restoring your faith in our product.  Please don't hesitate to ask any questions you may have.\"}"
      ]
     },
     "execution_count": 52,
     "metadata": {},
     "output_type": "execute_result"
    }
   ],
   "source": [
    "initial_state = {\n",
    "    'review': \"The product is not working as expected. I am very disappointed with the service.\"\n",
    "}\n",
    "\n",
    "workflow.invoke(initial_state)"
   ]
  },
  {
   "cell_type": "code",
   "execution_count": null,
   "id": "f8590617",
   "metadata": {},
   "outputs": [],
   "source": []
  }
 ],
 "metadata": {
  "kernelspec": {
   "display_name": "lg",
   "language": "python",
   "name": "python3"
  },
  "language_info": {
   "codemirror_mode": {
    "name": "ipython",
    "version": 3
   },
   "file_extension": ".py",
   "mimetype": "text/x-python",
   "name": "python",
   "nbconvert_exporter": "python",
   "pygments_lexer": "ipython3",
   "version": "3.11.9"
  }
 },
 "nbformat": 4,
 "nbformat_minor": 5
}
