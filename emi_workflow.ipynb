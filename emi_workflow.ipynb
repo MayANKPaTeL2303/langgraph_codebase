{
 "cells": [
  {
   "cell_type": "code",
   "execution_count": 21,
   "id": "1df421de",
   "metadata": {},
   "outputs": [],
   "source": [
    "from langgraph.graph import StateGraph, START, END\n",
    "from typing import TypedDict\n"
   ]
  },
  {
   "cell_type": "code",
   "execution_count": 22,
   "id": "6f3223a8",
   "metadata": {},
   "outputs": [],
   "source": [
    "#Define the state graph\n",
    "class BMIState(TypedDict):\n",
    "    weight: float\n",
    "    height: float\n",
    "    bmi: float\n",
    "    category: str"
   ]
  },
  {
   "cell_type": "code",
   "execution_count": 23,
   "id": "9181d0a9",
   "metadata": {},
   "outputs": [],
   "source": [
    "def calculate_bmi(state: BMIState) -> BMIState:\n",
    "    weight = state['weight']\n",
    "    height = state['height']\n",
    "    emi = weight / (height ** 2)\n",
    "    state['bmi'] = round(emi,2)\n",
    "    return state\n"
   ]
  },
  {
   "cell_type": "code",
   "execution_count": 24,
   "id": "691db9ec",
   "metadata": {},
   "outputs": [],
   "source": [
    "def label_bmi(state: BMIState) -> BMIState:\n",
    "    bmi = state['bmi']\n",
    "    if bmi < 18.5:\n",
    "        state['category'] = 'Underweight'\n",
    "    elif 18.5 <= bmi < 24.9:\n",
    "        state['category'] = 'Normal weight'\n",
    "    elif 25 <= bmi < 29.9:\n",
    "        state['category'] = 'Overweight'\n",
    "    else:\n",
    "        state['category'] = 'Obesity'\n",
    "    return state"
   ]
  },
  {
   "cell_type": "code",
   "execution_count": 25,
   "id": "a3cfc30d",
   "metadata": {},
   "outputs": [],
   "source": [
    "# Define the graph \n",
    "graph = StateGraph(BMIState)\n",
    "\n",
    "\n",
    "#Add nodes in the graph\n",
    "graph.add_node('calculate_bmi',calculate_bmi)\n",
    "graph.add_node('label_bmi',label_bmi)\n",
    "\n",
    "#Add edges to the graph\n",
    "graph.add_edge(START,'calculate_bmi')\n",
    "graph.add_edge('calculate_bmi', 'label_bmi')\n",
    "graph.add_edge('label_bmi', END)\n",
    "\n",
    "\n",
    "# Compile the graph\n",
    "\n",
    "workflow = graph.compile()\n",
    "\n",
    "\n",
    "\n",
    "\n",
    "\n",
    "\n",
    "\n",
    "\n",
    "\n"
   ]
  },
  {
   "cell_type": "code",
   "execution_count": 29,
   "id": "23506d08",
   "metadata": {},
   "outputs": [
    {
     "name": "stdout",
     "output_type": "stream",
     "text": [
      "{'weight': 90.0, 'height': 1.75, 'bmi': 29.39, 'category': 'Overweight'}\n"
     ]
    }
   ],
   "source": [
    "# Execute the graph\n",
    "initial_state = { \n",
    "    'weight': 90.0,\n",
    "    'height': 1.75\n",
    "}\n",
    "final_state = workflow.invoke(initial_state)\n",
    "print(final_state)"
   ]
  },
  {
   "cell_type": "code",
   "execution_count": null,
   "id": "990c8191",
   "metadata": {},
   "outputs": [],
   "source": []
  },
  {
   "cell_type": "code",
   "execution_count": null,
   "id": "69fab14f",
   "metadata": {},
   "outputs": [],
   "source": []
  }
 ],
 "metadata": {
  "kernelspec": {
   "display_name": "lg",
   "language": "python",
   "name": "python3"
  },
  "language_info": {
   "codemirror_mode": {
    "name": "ipython",
    "version": 3
   },
   "file_extension": ".py",
   "mimetype": "text/x-python",
   "name": "python",
   "nbconvert_exporter": "python",
   "pygments_lexer": "ipython3",
   "version": "3.11.9"
  }
 },
 "nbformat": 4,
 "nbformat_minor": 5
}
