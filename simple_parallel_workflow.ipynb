{
 "cells": [
  {
   "cell_type": "code",
   "execution_count": 27,
   "id": "a3b1f814",
   "metadata": {},
   "outputs": [
    {
     "data": {
      "text/plain": [
       "True"
      ]
     },
     "execution_count": 27,
     "metadata": {},
     "output_type": "execute_result"
    }
   ],
   "source": [
    "from langgraph.graph import StateGraph, START, END\n",
    "from langchain_google_genai import ChatGoogleGenerativeAI\n",
    "from typing import TypedDict\n",
    "from dotenv import load_dotenv\n",
    "import os\n",
    "\n",
    "# Load environment variables from .env\n",
    "load_dotenv()"
   ]
  },
  {
   "cell_type": "code",
   "execution_count": null,
   "id": "ee5b74c9",
   "metadata": {},
   "outputs": [],
   "source": [
    "llm = ChatGoogleGenerativeAI(\n",
    "    model=\"gemini-1.5-flash\",\n",
    "    temperature=0.2,\n",
    "    max_output_tokens=1024,\n",
    "    top_p=0.95,\n",
    "    top_k=40,\n",
    "    google_api_key=os.getenv(\"GEMINI_API_KEY\") \n",
    ")"
   ]
  },
  {
   "cell_type": "code",
   "execution_count": 29,
   "id": "eb57f207",
   "metadata": {},
   "outputs": [],
   "source": [
    "class BatsmanState(TypedDict):\n",
    "    runs: int\n",
    "    balls: int\n",
    "    nooffours: int\n",
    "    noofsixes: int\n",
    "    sr: float\n",
    "    bpb: float\n",
    "    boundary_percentage: float\n",
    "    summary: str"
   ]
  },
  {
   "cell_type": "code",
   "execution_count": null,
   "id": "1af2e4c4",
   "metadata": {},
   "outputs": [],
   "source": [
    "def calculate_sr(state: BatsmanState) -> BatsmanState:\n",
    "    state['sr'] = (state['runs'] / state['balls']) * 100\n",
    "    return {'sr': state['sr']}\n",
    "\n",
    "def calculate_bpb(state: BatsmanState) -> BatsmanState:\n",
    "    state['bpb'] = state['balls']/(state['nooffours'] + state['noofsixes'])\n",
    "    return {'bpb': state['bpb']}\n",
    "\n",
    "def calculate_boundary_percentage(state: BatsmanState) -> BatsmanState:\n",
    "    total_boudaries = state['nooffours']*4 + state['noofsixes']*6\n",
    "    state['boundary_percentage'] = (total_boudaries / state['runs']) * 100 \n",
    "    return {'boundary_percentage': state['boundary_percentage']}\n",
    "\n",
    "def summary(state: BatsmanState) -> BatsmanState:\n",
    "    summary = f\"\"\"\n",
    "Batsman Summary:\n",
    "- Runs: {state['runs']} \n",
    "- Balls: {state['balls']}\n",
    "- Fours: {state['nooffours']}\n",
    "- Sixes: {state['noofsixes']}\n",
    "- Strike Rate: {state['sr']:.2f}\n",
    "- Balls Per Boundary: {state['bpb']:.2f}\n",
    "- Boundary Percentage: {state['boundary_percentage']:.2f}%\n",
    "\"\"\"\n",
    "    state['summary'] = summary\n",
    "    \n",
    "    return state\n"
   ]
  },
  {
   "cell_type": "code",
   "execution_count": 31,
   "id": "b400d956",
   "metadata": {},
   "outputs": [],
   "source": [
    "graph = StateGraph(BatsmanState)\n",
    "graph.add_node('calculate_sr', calculate_sr)\n",
    "graph.add_node('calculate_bpb',calculate_bpb)\n",
    "graph.add_node('calculate_boundary_percentage', calculate_boundary_percentage)\n",
    "graph.add_node('summary',summary)\n",
    "\n",
    "\n",
    "# Add edges to define the workflow\n",
    "graph.add_edge(START, 'calculate_sr')\n",
    "graph.add_edge(START, 'calculate_bpb')\n",
    "graph.add_edge(START, 'calculate_boundary_percentage')\n",
    "\n",
    "graph.add_edge('calculate_sr', 'summary')\n",
    "graph.add_edge('calculate_bpb', 'summary')\n",
    "graph.add_edge('calculate_boundary_percentage', 'summary')\n",
    "\n",
    "graph.add_edge('summary',END)\n",
    "workflow = graph.compile()"
   ]
  },
  {
   "cell_type": "code",
   "execution_count": 32,
   "id": "e7ea977c",
   "metadata": {},
   "outputs": [
    {
     "data": {
      "text/plain": [
       "{'runs': 100,\n",
       " 'balls': 50,\n",
       " 'nooffours': 10,\n",
       " 'noofsixes': 5,\n",
       " 'sr': 200.0,\n",
       " 'bpb': 3.3333333333333335,\n",
       " 'boundary_percentage': 70.0,\n",
       " 'summary': '\\nBatsman Summary:\\n- Runs: 100 \\n- Balls: 50\\n- Fours: 10\\n- Sixes: 5\\n- Strike Rate: 200.00\\n- Balls Per Boundary: 3.33\\n- Boundary Percentage: 70.00%\\n'}"
      ]
     },
     "execution_count": 32,
     "metadata": {},
     "output_type": "execute_result"
    }
   ],
   "source": [
    "initial_state = BatsmanState(\n",
    "    runs=100,\n",
    "    balls=50,\n",
    "    nooffours=10,\n",
    "    noofsixes=5,\n",
    "    sr=0.0,\n",
    "    bpb=0.0,\n",
    "    boundary_percentage=0.0,\n",
    "    summary=\"\"\n",
    ")\n",
    "\n",
    "workflow.invoke(initial_state)"
   ]
  },
  {
   "cell_type": "code",
   "execution_count": null,
   "id": "173f52a8",
   "metadata": {},
   "outputs": [],
   "source": []
  }
 ],
 "metadata": {
  "kernelspec": {
   "display_name": "lg",
   "language": "python",
   "name": "python3"
  },
  "language_info": {
   "codemirror_mode": {
    "name": "ipython",
    "version": 3
   },
   "file_extension": ".py",
   "mimetype": "text/x-python",
   "name": "python",
   "nbconvert_exporter": "python",
   "pygments_lexer": "ipython3",
   "version": "3.11.9"
  }
 },
 "nbformat": 4,
 "nbformat_minor": 5
}
